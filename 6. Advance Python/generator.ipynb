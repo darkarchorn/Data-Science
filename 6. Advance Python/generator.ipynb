{
 "cells": [
  {
   "cell_type": "markdown",
   "metadata": {},
   "source": [
    "## Generators\n",
    "\n",
    "Generators are a simpler way to create iterators. They use the 'yield' keyword to produce a series of values lazily, which means they generate values on the fly and do not store them in memory"
   ]
  },
  {
   "cell_type": "code",
   "execution_count": 11,
   "metadata": {},
   "outputs": [
    {
     "name": "stdout",
     "output_type": "stream",
     "text": [
      "<generator object square at 0x00000215F7301540>\n"
     ]
    }
   ],
   "source": [
    "def square(n):\n",
    "    for i in range(3):\n",
    "        yield i**2\n",
    "\n",
    "print(square(3))"
   ]
  },
  {
   "cell_type": "code",
   "execution_count": 12,
   "metadata": {},
   "outputs": [
    {
     "name": "stdout",
     "output_type": "stream",
     "text": [
      "0\n",
      "1\n",
      "4\n"
     ]
    }
   ],
   "source": [
    "for i in square(3):\n",
    "    print(i)"
   ]
  },
  {
   "cell_type": "code",
   "execution_count": 13,
   "metadata": {},
   "outputs": [
    {
     "data": {
      "text/plain": [
       "<generator object my_generator at 0x00000215F73618C0>"
      ]
     },
     "execution_count": 13,
     "metadata": {},
     "output_type": "execute_result"
    }
   ],
   "source": [
    "def my_generator():\n",
    "    yield 1\n",
    "    yield 2\n",
    "    yield 3\n",
    "\n",
    "gen = my_generator()\n",
    "gen"
   ]
  },
  {
   "cell_type": "code",
   "execution_count": 16,
   "metadata": {},
   "outputs": [],
   "source": [
    "for i in gen:\n",
    "    print(next(gen))"
   ]
  },
  {
   "cell_type": "markdown",
   "metadata": {},
   "source": [
    "## Practical Example: Reading Large Files\n",
    "\n",
    "Generators are particulary useful for reading large files because they allow you to process one line at a time without loading the entire file into memory"
   ]
  },
  {
   "cell_type": "code",
   "execution_count": 17,
   "metadata": {},
   "outputs": [
    {
     "name": "stdout",
     "output_type": "stream",
     "text": [
      "G2 Esports rebranded from the name Gamers2 in October 2015, after qualifying for the EU LCS. In addition to rebranding, the team changed several positions in their roster: from Smittyj, Kikis, PerkZ, Jesse, and Hybrid as their qualifying roster, G2 Esports moved Kikis to top lane and added Korean players Trick and Emperor. Their roster quickly rose to prominence and recognition in the LCS, consistently tied for first place after each week, sometimes with H2k and sometimes also with Vitality, until the end of the split when they held sole possession of first place with a 15-3 record. With a quarterfinal bye, the playoffs also saw them perform well, as they defeated both Fnatic and Origen 3-1 to win the season and secure an invitation to the Mid-Season Invitational.\n",
      "\n",
      "2016 Mid-Season Invitational\n",
      "Going into MSI, G2 Esports were seen as a favorite not to win, but to come in second place to the Korean representatives SK Telecom T1.[1][2] However, the team lost their first four games of the round robin and ultimately finished in fifth place, ahead of only SuperMassive eSports, and out of playoff contention - importantly, this placement meant that Europe would miss out on a Pool 1 Seed at Worlds. In a statement published partway through the second day of play, G2 stated that their players had taken vacation time after a \"rigorous Spring Split.\"[3] Emperor later stated that there had been an internal conflict within the team one day prior to the start of the event.[4]\n",
      "\n",
      "These several factors - their performance compared to expectations, the far-reaching impact of their result harming the European region as a whole for Worlds seeding, and their statement seeming like a poor excuse - resulted in the organization receiving significant backlash from the community and sparked a debate with varied opinions on the matter from different people.[5][6][7][8]\n",
      "\n",
      "Summer Split\n",
      "Looking ahead to the Summer Split, G2 announced the acquisition of the former Origen botlane, Zven and Mithy,[9] and Korean toplaner Expect. With a newfound strength in the bot lane, coupled with Trick's MVP-worthy performance, G2 went on to re-establish themselves as the best team in Europe, placing first in the Regular Season with a match record of 10-8-0 in spite of Kikis leaving the lineup between Weeks 6 and 7.[10] They then defeated Splyce 3-1 in the Summer Playoffs Finals, securing their spot in the 2016 World Championship.\n",
      "\n",
      "2016 World Championship\n",
      "Due to their poor MSI performance, G2 ended up joining Worlds as a Pool Two team, thus having to potentially face tougher opponents in the Group Stage. They were drafted in Group A along with LCK champions ROX Tigers, NA LCS second seed Counter Logic Gaming and International Wild Card Tournament winner from the CIS region Albus NoX Luna. G2 exited the tournament early in last place in their group, going 1-5 with their only win coming in their final game against Albus NoX.\n",
      "\n",
      "2017 Season\n",
      "Spring Split\n",
      "During the 2016-17 offseason, G2 was one of only two teams along with Splyce to make no roster changes aside from bringing in MindGamesWeldon as assistant coach going into the Spring Split. They were placed into Group A alongside Misfits, Fnatic, Team ROCCAT, and Giants Gaming.[11] After dominating the first half of the domestic split with a perfect 7-0 match record, G2 was invited to IEM Katowice to replace Cloud9, who had forfeited their spot. G2 defeated ROX Tigers and Kongdoo Monster of the LCK, along with European rivals Unicorns of Love, to make it to the tournament finals, where they lost 0-2 against the back-to-back LMS champion Flash Wolves.\n",
      "\n",
      "In domestic competition, G2 held a commanding lead throughout the season, dropping only eight games and remaining undefeated in series until their very last match, losing to the surging Team ROCCAT. G2 finished in first overall with a 12-1 record, earning their third consecutive first-place regular season finish. They continued this in playoffs as well beating both Fnatic and Unicorns of Love 3-1 in the playoffs winning their third domestic title in a row and securing a place at Rift Rivals as well as another invitation to the Mid-Season Invitational.\n",
      "\n",
      "2017 Mid-Season Invitational\n",
      "G2 Esports finished the group stage of the Main Event with a 4-6 record in a 3-way-tie for third with Flash Wolves and Team SoloMid in which they came out as 3rd seed going into playoffs by being 3-1 in H2H against these teams. After upsetting Team WE, to which they lost both games in groups 3-1 in semifinals, they faced SK Telecom T1 in the finals and lost 1-3.\n",
      "\n",
      "Summer Split\n",
      "After giving their players a short vacation after MSI, G2 had a slow start to the Summer Split and ended the first round in their group 2-3. One of their wins was in week 1 while playing with 3 subs.[12][13] Between weeks 5 and 6, G2 played with Fnatic and Unicorns of Love at the newly created Rift Rivals against the North American representatives Cloud 9, TSM, and Phoenix1. It was disappointing for both G2 and the EU LCS as G2 went 1-5 in groups and UoL lost the finals 0-3. They picked up the pace domestically during intergroup matches and went on a 6 match winstreak, dropping only 2 games before their run was suddenly stopped when Team ROCCAT upset them in the last week of Regular Season, followed by a 0-2 loss against Fnatic and a hard fought victory in quarterfinals against Splyce. With regained confidence from this win they went on to cleanly sweep H2k in semifinals and Misfits in finals for their 4th consecutive EU LCS title, thus qualifying for the 2017 World Championship as Europe's first seed.\n",
      "\n",
      "2017 World Championship\n",
      "Due to their MSI performance, G2 went into the draw as a first seed but ended up with a very tough draw anyway. They were placed into Group C alongside LCK third seed Samsung Galaxy, LPL second seed Royal Never Give Up and TCL representative 1907 Fenerbahçe. G2 ended the group in third place, taking one game off group winner RNG but losing both games against Samsung.\n",
      "\n",
      "2018 Season\n",
      "Spring Split\n",
      "Due to the departure of their botlane duo Zven and mithy, G2 rebuilt their roster around midlaner Perkz.[14] They signed Wunder from Splyce, Jankos from H2k and Team ROCCAT's botlane Hjarnan / Wadid and coach GrabbZ, who replaced YoungBuck after his decision to look for a new challenge.[15][16][17] After an inconsistent Spring Split Regular Season, where they finished with an 11-7 record, they beat Splyce in a tiebreaker for 2nd seed and 3-1 in semifinals a few weeks later. In finals, they went up against Fnatic and their former coach YoungBuck for what could be their 5th title in a row, but they were cleanly swept, and lost 0-3.\n",
      "\n",
      "Summer Split\n",
      "G2 managed to deal with the new meta and started off strong in Summer Split going into Rift Rivals as first place, with a perfect record after 3 weeks of play. At Rift Rivals they won all of their group stage games against Team Liquid, 100 Thieves, and Echo Fox and, despite losing the first game of finals, Europe ended up winning the event. However, they could not keep their advantage in the EU LCS and lost tiebreaker games, dropping them from 2nd place to 4th place going into playoffs. They lost decisively 0-3 to Misfits. This meant that they did not reach EU LCS finals for the first time in organisation history, but still went into the Regional Finals as 2nd seed. They faced Splyce in Round 2 of the gauntlet and secured a 3-2 victory to face Summer Split runner-up FC Schalke 04 in the final. Despite going into the match as underdogs, they won 3-1, which secured them the third seed of Europe at the 2018 World Championship.\n",
      "\n",
      "2018 World Championship\n",
      "At the World Championship they went through Play-In Round 1 in Group B with SuperMassive eSports and Ascension Gaming, and beat Infinity Esports in Round 2. In the Main Event they were drawn into Group A with LCK second seed Afreeca Freecs, LMS first seed Flash Wolves and VCS representative Phong Vũ Buffalo. After going 2-1 in week 1, they went 1-2 on the deciding day. They ended 1-1 against every team in the group and went on to beat Flash Wolves in a tiebreaker. Going into quarterfinals as clear underdogs vs LPL's Royal Never Give Up, they won the series 3-2. They lost to LPL second-seed Invictus Gaming in the semifinals.\n",
      "\n",
      "2019 Season\n",
      "On November 20, Riot Games announced G2 Esports as one of the ten partner teams for the LEC 2019 Spring Split.[18]\n",
      "\n",
      "Spring Split\n",
      "Coming into the 2019 Season, G2 released their botlane duo and signed support Mikyx from Misfits and star midlaner Caps from their rivals Fnatic as replacements while Perkz switched roles from midlane to AD carry.[19][20] They started the Spring Split above their competition, winning their first 9 games and quickly securing a place at the offline finals of playoffs. They later dropped games towards the end of the split and ended in first place with a record of 13-5. In Round 2 of the new playoff format, G2 faced Origen and, after 2 close games, G2 dominated game 3 for a clean sweep. Because Origen won the semifinal against Fnatic, G2 had a rematch against them. This time, G2 destroyed them in 74 minutes and 31 seconds, which was the fastest playoff series in LEC history. Their 5th title also meant that they qualified for both Mid-Season Invitational and Rift Rivals.\n",
      "\n",
      "Mid Season Invitational\n",
      "Coming into MSI, there were worries concerning a wrist injury Mikyx had. However, it was announced that Mikyx would play at MSI. G2 finished the group stage with a 5-5 record, advancing to the semifinals as the third place team. In the semifinals, G2 faced off against SK Telecom T1. In a close five games series, G2 managed to edge out the victory over SKT and advanced to the Grand Final, where they swept Team Liquid 3-0 in the fastest international best-of-five series in League of Legends history, earning the title of Mid-Season Invitational 2019 Champions.\n",
      "\n",
      "Summer Split\n",
      "G2 carried their momentum from MSI forward into Summer Split despite taking a break, due to which they went into week 1 with barely any practice on the new patch. After three weeks, they were 2nd with a 5-1 record and decided to experiment with role swaps and unexpected strategies at Rift Rivals against TL, C9 and TSM. Despite LEC's loss in finals, Europe managed to win the tournament 3-1. G2 somewhat continued this success in LEC and still won most games. G2 still comfortably secured 1st seed for playoffs with a 15-3 record. In Round 2 of playoffs, G2 found themselves down 0-2 to Fnatic’s global compositions and were at a deficit in game 3 as well. They managed to turn that game and the series around as they dismantled Fnatic in a 19-minute game 5 to advance to the finals. There, they had a rematch against Fnatic, who won the semifinals the day before and were even better prepared than last time. In a crazy start to the series, Fnatic snowballed an early lead to a dominant victory. The next 3 games similarly snowballed, and G2 equalized the series twice before breaking the pattern and getting a strong early lead in game 5. Unlike the series a week prior, Fnatic did not crumble this time but instead held on and found good engages with their teamfight composition, but before they could turn the game fully around, G2 found deciding picks and ended the game and series to go to Worlds as Europe's 1st seed, and one of the favorites to win it.\n",
      "\n",
      "World Championship\n",
      "G2 Esports were drawn in Group A of the World Championship main stage, alongside Griffin, Cloud9 and Hong Kong Attitude. G2 won all 3 games in the first round robin. In the second round robin, G2 went on to win their first two games against C9 and HKA; however, they dropped their final game to Griffin in the second round robin. This forced a tiebreaker for first place, in which Griffin beat G2 Esports, meaning G2 would take the second place in Group A. G2 were drawn against DAMWON Gaming in the quarterfinals. In a more straight forward series, G2 managed to beat DAMWON and advance to the semifinals, where they met SK Telecom T1. G2 took the first game in the series against SKT, after which SKT took game 2. G2 managed to win Game 3 and 4 and close out the series in a 3-1 victory, meaning they advanced to the Grand Final of the World Championships. There they met FunPlus Phoenix, the first seed from China, to whom they lost 0-3 afterwards, ending Worlds as the runner-up.\n",
      "\n",
      "2020 Season\n",
      "Going into Spring Split, Perkz and Caps switched positions, with Perkz returning to mid-lane and Caps becoming the team's ADC. Despite the role swap, G2 still dominated at the beginning of the split and found themselves at 6-0 after week 3. Following a two-week slump, during which they went 1-3, G2 picked it back up and won all their remaining matches of the Regular Season to secure first seed in playoffs with a 15-3 record. For Round 1 of playoffs, they chose to face MAD Lions. Although in an exciting series they managed to equalize the score twice and were close to winning game 3, they were upset and dropped down into Loser's Bracket. There they faced Origen in Round 3 and, after a great first game, G2 managed to come back in game 2 with two great teamfights in the late game. Following a slow dominant game 3 by Origen, G2 came back and won game 4 convincingly, securing a rematch against MAD Lions. With an improved read of the meta and better individual performances, G2 managed to take a 3-1 win this around to face Fnatic in the finals. Unlike the last split, G2 destroyed Fnatic in the draft and in gameplay for a quick 3-0 clean sweep. With this win, G2 equaled Fnatic's 7 LEC titles.\n",
      "\n",
      "Shortly after Spring Split, Perkz and Caps announced that they would switch positions back for Summer Split.\n",
      "\n",
      "Trivia\n",
      "Internationally, they are tied with DetonatioN FocusMe and Movistar R7 as the most decorated teams at a domestic level with 16 regional titles each.\n",
      "Associated with the meme \"Four Horsemen of the Apocalypse\" as they participate in 4 best plays of the entire Worlds' history as victim (Smeb's Kennen in 2016, TheShy's Aatrox in 2018, Tian's Lee Sin in 2019 and Bin's Gangplank in 2020)\n",
      "Ever since the first time the organization join the European's highest competitive level of League of Legends in 2016, G2 had never missed any Worlds before they missed Worlds for the first time in 2021.\n",
      "Had a 24-0 game win streak over LEC 2022 Spring Playoffs and MSI 2022, before eventually losing to PSG Talon in the Rumble Stage.\n"
     ]
    }
   ],
   "source": [
    "def read_large_file(path):\n",
    "    with open(path, 'r') as file:\n",
    "        for line in file:\n",
    "            yield line\n",
    "\n",
    "file_path = 'largefile.txt'\n",
    "for line in read_large_file(file_path):\n",
    "    print(line.strip())"
   ]
  }
 ],
 "metadata": {
  "kernelspec": {
   "display_name": "Python 3",
   "language": "python",
   "name": "python3"
  },
  "language_info": {
   "codemirror_mode": {
    "name": "ipython",
    "version": 3
   },
   "file_extension": ".py",
   "mimetype": "text/x-python",
   "name": "python",
   "nbconvert_exporter": "python",
   "pygments_lexer": "ipython3",
   "version": "3.10.16"
  }
 },
 "nbformat": 4,
 "nbformat_minor": 2
}
