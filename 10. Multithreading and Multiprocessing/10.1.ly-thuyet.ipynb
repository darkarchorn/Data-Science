{
 "cells": [
  {
   "cell_type": "markdown",
   "id": "20f5c444",
   "metadata": {},
   "source": [
    "## Multithreading and Multiprocessing\n",
    "\n",
    "1. Program\n",
    "2. Process\n",
    "3. Threads\n",
    "4. Examples of Process and Thread"
   ]
  },
  {
   "cell_type": "markdown",
   "id": "19a61090",
   "metadata": {},
   "source": [
    "### 1. Program\n",
    "\n",
    "A program is a sequence of instructions written in programming language (eg: Python, C++)\n",
    "\n",
    "Eg: chrome.exe is a program written in some programming language. The code indicates how the browser should work, and has a lot of instructions for the program to follow"
   ]
  },
  {
   "cell_type": "markdown",
   "id": "47b75dfe",
   "metadata": {},
   "source": [
    "### 2. Process\n",
    "\n",
    "A process is simply an instance of a program that is being executed.\n",
    "\n",
    "Eg: Chrome app can have many browsers open. Each and every browser with respect to Google Chrome is a process."
   ]
  },
  {
   "cell_type": "markdown",
   "id": "94a61aee",
   "metadata": {},
   "source": [
    "Required resources for a program:\n",
    "1. Code segment (Text Segment):\n",
    "- AKA complied instructions\n",
    "- Contains the actual compiled machine code of the program\n",
    "- It is usually read-only to prevent accidental modification during execution\n",
    "2. Data Segment\n",
    "- Store global and static variables that are initialized before execution begins\n",
    "- It is typically divided into:\n",
    "    - Initialized data segment (for variables with defined initial values)\n",
    "    - Uninitialized data segment (BSS) (for variables with no explicit initial value, automatically set to zero)\n",
    "3. Heap Memory\n",
    "- Used for dynamic memory allocation, manage at runtime via functions like `malloc`, `calloc`, `new`, etc.\n",
    "- Grows upwards (towards higher memory addresses).\n",
    "4. Stack\n",
    "- Stores local variables, function parameters, and return addresses for function calls\n",
    "- It follows Last In, First Out (LIFO) behavior\n",
    "- Grows downward (toward lower memory addresses) on most systems\n",
    "5. Registers\n",
    "- Small, fast storage locations within the CPU\n",
    "- Used to hold temprary datam intermediate results, counters, pointers, and instruction addresses during program execution."
   ]
  },
  {
   "cell_type": "markdown",
   "id": "2a2a0a22",
   "metadata": {},
   "source": [
    "Every process we run has a separate memory space. One process cannot corrupt another process (if one process has a problem, no other process get affected)\n",
    "I/O requirement: -> Increase execution time top switch between processes\n",
    "\n",
    "Eg: Browser / Excel each has its own memory space, process id,..."
   ]
  },
  {
   "cell_type": "markdown",
   "id": "1257cdbd",
   "metadata": {},
   "source": [
    "### 3. Threads\n",
    "A thread is a unit of execution within a process.\n",
    "\n",
    "Eg: Single threaded process has its own stack and register, but will be sharing the code segment, data segment and heap in the process itself. For example, when using MS Paint, the MS Paint itself is a process; when using the cursor to draw a circle, a retangle,..., each \"interaction\" require a thread of execution."
   ]
  },
  {
   "cell_type": "markdown",
   "id": "d846d84c",
   "metadata": {},
   "source": [
    "A thread is a unit of a process. In a multithreaded process, the threads use a common code segment, data segment and heap memory, while having each of its own stack and registers."
   ]
  },
  {
   "cell_type": "markdown",
   "id": "556a57fc",
   "metadata": {},
   "source": []
  }
 ],
 "metadata": {
  "language_info": {
   "name": "python"
  }
 },
 "nbformat": 4,
 "nbformat_minor": 5
}
