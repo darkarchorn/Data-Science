{
 "cells": [
  {
   "cell_type": "markdown",
   "id": "20f5c444",
   "metadata": {},
   "source": [
    "## Multithreading and Multiprocessing\n",
    "\n",
    "1. Program\n",
    "2. Process\n",
    "3. Threads\n",
    "4. Examples of Process and Thread"
   ]
  },
  {
   "cell_type": "markdown",
   "id": "19a61090",
   "metadata": {},
   "source": [
    "### 1. Program\n",
    "\n",
    "A program is a sequence of instructions written in programming language (eg: Python, C++)\n",
    "\n",
    "Eg: chrome.exe is a program written in some programming language. THe code indicates how the browser should work, and has a lot of instructions for the program to follow"
   ]
  },
  {
   "cell_type": "markdown",
   "id": "47b75dfe",
   "metadata": {},
   "source": [
    "### 2. Process"
   ]
  }
 ],
 "metadata": {
  "language_info": {
   "name": "python"
  }
 },
 "nbformat": 4,
 "nbformat_minor": 5
}
