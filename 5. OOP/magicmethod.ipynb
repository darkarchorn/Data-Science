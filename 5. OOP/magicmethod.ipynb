{
 "cells": [
  {
   "cell_type": "markdown",
   "metadata": {},
   "source": [
    "## Magic Methods\n",
    "\n",
    "Magic methods in Python, also known as dunder methods (doubel underscorce methods), are special methods that start and end with double underscores. these enable you to define the behavior of objects for built-in operations, such as arithmetic operations, comparisions, and more."
   ]
  },
  {
   "cell_type": "markdown",
   "metadata": {},
   "source": [
    "Magic methods are predefined methods in Python that you can override to change the behavior of your objects. Some common magic methods include:\n"
   ]
  },
  {
   "cell_type": "code",
   "execution_count": 1,
   "metadata": {},
   "outputs": [
    {
     "data": {
      "text/plain": [
       "'\\n__init__: Initializes a new instance of a class\\n__str__: Returns a string representation of an object\\n__repr__: Returns an official string representation of an object\\n__len__: Returns the length of an object\\n__getitem__: Gets an item from a container\\n__setitem__: Sets an item in a container\\n'"
      ]
     },
     "execution_count": 1,
     "metadata": {},
     "output_type": "execute_result"
    }
   ],
   "source": [
    "'''\n",
    "__init__: Initializes a new instance of a class\n",
    "__str__: Returns a string representation of an object\n",
    "__repr__: Returns an official string representation of an object\n",
    "__len__: Returns the length of an object\n",
    "__getitem__: Gets an item from a container\n",
    "__setitem__: Sets an item in a container\n",
    "'''"
   ]
  },
  {
   "cell_type": "code",
   "execution_count": 8,
   "metadata": {},
   "outputs": [],
   "source": [
    "from abc import abstractmethod, ABC\n",
    "\n",
    "class Classroom:\n",
    "    def __init__(self, name):\n",
    "        self.students = []\n",
    "        self.name = name\n",
    "        self.teacher = []\n",
    "\n",
    "    def __len__(self):\n",
    "        return len(self.students) + len(self.teacher)\n",
    "    \n",
    "    def addStudent(self, student):\n",
    "        self.students.append(student)\n",
    "\n",
    "    def addTeacher(self, teacher):\n",
    "        self.teacher.append(teacher)\n",
    "\n",
    "    def __str__(self):\n",
    "        return f\"Class name: {self.name} has {len(self.students)} students and {len(self.teacher)} teachers.\"\n",
    "\n",
    "class Person(ABC):\n",
    "    def __init__(self, name, age):\n",
    "        self.name = name\n",
    "        self.age = age\n",
    "        print(f\"Person with name: {name} and age: {age} initialized!\")\n",
    "\n",
    "    @abstractmethod\n",
    "    def toString(self):\n",
    "        pass\n",
    "\n",
    "class Student(Person):\n",
    "    def __init__(self, name, age, GPA):\n",
    "        super().__init__(name, age)\n",
    "        self.GPA = GPA\n",
    "\n",
    "    def toString(self):\n",
    "        return f\"Student name:{self.name}, age: {self.age}, GPA: {self.GPA}\"\n",
    "    \n",
    "class Teacher(Person):\n",
    "    def __init__(self, name, age):\n",
    "        super().__init__(name, age)\n",
    "\n",
    "    def toString(self):\n",
    "        return f\"Student name:{self.name}, age: {self.age}\"\n",
    "    \n"
   ]
  },
  {
   "cell_type": "code",
   "execution_count": 14,
   "metadata": {},
   "outputs": [
    {
     "name": "stdout",
     "output_type": "stream",
     "text": [
      "Person with name: Thang and age: 23 initialized!\n",
      "Class name: Algebra has 0 students and 0 teachers.\n",
      "Class name: Algebra has 1 students and 0 teachers.\n",
      "1\n"
     ]
    }
   ],
   "source": [
    "PDT = Student(\"Thang\", 23, 3.0)\n",
    "\n",
    "algebra = Classroom(\"Algebra\")\n",
    "\n",
    "print(algebra)\n",
    "\n",
    "algebra.addStudent(PDT)\n",
    "\n",
    "print(algebra)\n",
    "\n",
    "print(len(algebra))"
   ]
  }
 ],
 "metadata": {
  "kernelspec": {
   "display_name": "Python 3",
   "language": "python",
   "name": "python3"
  },
  "language_info": {
   "codemirror_mode": {
    "name": "ipython",
    "version": 3
   },
   "file_extension": ".py",
   "mimetype": "text/x-python",
   "name": "python",
   "nbconvert_exporter": "python",
   "pygments_lexer": "ipython3",
   "version": "3.10.16"
  }
 },
 "nbformat": 4,
 "nbformat_minor": 2
}
