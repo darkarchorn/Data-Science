{
 "cells": [
  {
   "cell_type": "markdown",
   "metadata": {},
   "source": [
    "# Inheritance In Python\n",
    "Inheritance is a fundamental concept in OOP that allows a class to inheriit attributes and methods from another class. This lesson covers single inheritance and multiple Inheritance, Demonstrating how to create and use them in Python."
   ]
  },
  {
   "cell_type": "code",
   "execution_count": 5,
   "metadata": {},
   "outputs": [],
   "source": [
    "class Car:\n",
    "    def __init__(self, windows, doors, enginetype):\n",
    "        self.windows = windows\n",
    "        self.doors = doors\n",
    "        self.enginetype = enginetype\n",
    "        print(f\"A {enginetype} car with {windows} window(s), {doors} door(s) has been initialized!\")\n",
    "\n",
    "    def drive(self):\n",
    "        print(f\"The person will drive the {self.enginetype} car\")"
   ]
  },
  {
   "cell_type": "code",
   "execution_count": 7,
   "metadata": {},
   "outputs": [
    {
     "name": "stdout",
     "output_type": "stream",
     "text": [
      "A petrol car with 4 window(s), 5 door(s) has been initialized!\n",
      "The person will drive the petrol car\n"
     ]
    }
   ],
   "source": [
    "car1 = Car(4,5,\"petrol\")\n",
    "\n",
    "car1.drive()"
   ]
  },
  {
   "cell_type": "code",
   "execution_count": 15,
   "metadata": {},
   "outputs": [],
   "source": [
    "class Tesla(Car):\n",
    "    def __init__(self, windows, doors, enginetype, is_selfdriving):\n",
    "        super().__init__(windows, doors, enginetype)\n",
    "        self.is_selfdriving = is_selfdriving\n",
    "        print(f\"This is a Tesla\")\n",
    "\n",
    "    def selfdriving(self):\n",
    "        print(f\"Tesla {'does' if self.is_selfdriving else 'does not'} support self-driving!\")"
   ]
  },
  {
   "cell_type": "code",
   "execution_count": 16,
   "metadata": {},
   "outputs": [
    {
     "name": "stdout",
     "output_type": "stream",
     "text": [
      "A gas car with 4 window(s), 4 door(s) has been initialized!\n",
      "This is a Tesla\n",
      "Tesla does support self-driving!\n",
      "The person will drive the gas car\n"
     ]
    }
   ],
   "source": [
    "tesla1 = Tesla(4,4,\"gas\",True)\n",
    "tesla1.selfdriving()\n",
    "tesla1.drive()"
   ]
  },
  {
   "cell_type": "code",
   "execution_count": 17,
   "metadata": {},
   "outputs": [
    {
     "name": "stdout",
     "output_type": "stream",
     "text": [
      "A electric car with 4 window(s), 4 door(s) has been initialized!\n",
      "This is a Tesla\n",
      "The Tesla is also blue\n"
     ]
    }
   ],
   "source": [
    "# Multiple Inheritance\n",
    "\n",
    "class BlueTesla(Tesla):\n",
    "    def __init__(self, windows, doors, enginetype, is_selfdriving):\n",
    "        super().__init__(windows, doors, enginetype, is_selfdriving)\n",
    "        self.color = \"blue\"\n",
    "        print(\"The Tesla is also blue\")\n",
    "\n",
    "blueTesla = BlueTesla(windows=4, doors=4, enginetype=\"electric\", is_selfdriving=True)"
   ]
  }
 ],
 "metadata": {
  "kernelspec": {
   "display_name": "Python 3",
   "language": "python",
   "name": "python3"
  },
  "language_info": {
   "codemirror_mode": {
    "name": "ipython",
    "version": 3
   },
   "file_extension": ".py",
   "mimetype": "text/x-python",
   "name": "python",
   "nbconvert_exporter": "python",
   "pygments_lexer": "ipython3",
   "version": "3.10.16"
  }
 },
 "nbformat": 4,
 "nbformat_minor": 2
}
