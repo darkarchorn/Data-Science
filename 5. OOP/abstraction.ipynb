{
 "cells": [
  {
   "cell_type": "markdown",
   "metadata": {},
   "source": [
    "## Abstraction\n",
    "\n",
    "Abstraction is the concept of hiding the complex implementation detauls and showing only the necessary features of and object. This helps in reducing programming complexity and effort.\n",
    "For example, the remote control has only buttons, all the complex underneath is hidden."
   ]
  },
  {
   "cell_type": "code",
   "execution_count": 1,
   "metadata": {},
   "outputs": [
    {
     "name": "stdout",
     "output_type": "stream",
     "text": [
      "Volumn is increased to 51\n"
     ]
    }
   ],
   "source": [
    "from abc import ABC, abstractmethod\n",
    "\n",
    "class RemoteControl(ABC):\n",
    "    def __init__(self):\n",
    "        self.chanel = 0\n",
    "        self.volumn = 50\n",
    "\n",
    "    def changeChanel(self, chanel):\n",
    "        self.chanel = chanel\n",
    "        print(f\"Chanel is changed to: {chanel}\")\n",
    "\n",
    "    @abstractmethod\n",
    "    def increaseVolume(self):\n",
    "        pass\n",
    "\n",
    "class TVRemoteControl(RemoteControl):\n",
    "    def __init__(self):\n",
    "        super().__init__()\n",
    "\n",
    "    def increaseVolume(self):\n",
    "        self.volumn += 1\n",
    "        print(f\"Volumn is increased to {self.volumn}\")\n",
    "\n",
    "def increaseVolume(remote):\n",
    "    remote.increaseVolume()\n",
    "\n",
    "rm = TVRemoteControl()\n",
    "increaseVolume(rm)"
   ]
  }
 ],
 "metadata": {
  "kernelspec": {
   "display_name": "Python 3",
   "language": "python",
   "name": "python3"
  },
  "language_info": {
   "codemirror_mode": {
    "name": "ipython",
    "version": 3
   },
   "file_extension": ".py",
   "mimetype": "text/x-python",
   "name": "python",
   "nbconvert_exporter": "python",
   "pygments_lexer": "ipython3",
   "version": "3.10.16"
  }
 },
 "nbformat": 4,
 "nbformat_minor": 2
}
