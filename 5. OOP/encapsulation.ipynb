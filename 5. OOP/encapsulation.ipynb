{
 "cells": [
  {
   "cell_type": "markdown",
   "metadata": {},
   "source": [
    "## Encapsulation And Abstraction\n",
    "\n",
    "Encapsulation and abstraction are two fundamental principles of OOP that help in designing robust, maintainable, and reusable code. Encapsulation involves bundling data and methods that operate on the data within a single unit, while abstraction involves hiding complex implementation details and exposing only the necessary features.\n",
    "\n",
    "## Encapsulation\n",
    "\n",
    "Encapsulation is the oncept of wrapping data (variables) and methods (functions) together as a single unit. It restricts direct access to some of the object's components, which is a means of preventing accidental interference and misuse of the data."
   ]
  },
  {
   "cell_type": "code",
   "execution_count": 7,
   "metadata": {},
   "outputs": [
    {
     "name": "stdout",
     "output_type": "stream",
     "text": [
      "Thang\n",
      "Giang\n"
     ]
    }
   ],
   "source": [
    "### Encapsulation with Getter and Setter Methods\n",
    "### Public, protected, private variables\n",
    "\n",
    "class Person:\n",
    "    def __init__(self, name, age):\n",
    "        self.name = name\n",
    "        self.age = age\n",
    "\n",
    "person = Person(name=\"Thang\", age=23) # this is not recommended\n",
    "print(person.name)\n",
    "person.name = \"Giang\"\n",
    "print(person.name)"
   ]
  },
  {
   "cell_type": "code",
   "execution_count": null,
   "metadata": {},
   "outputs": [
    {
     "name": "stdout",
     "output_type": "stream",
     "text": [
      "Thang\n"
     ]
    }
   ],
   "source": [
    "# The name of a person should not be changed that easily\n",
    "\n",
    "class PersonWithSecurity:\n",
    "    def __init__(self,name,age, gendering):\n",
    "        self.__name = name # private variables\n",
    "        self._age = age # private variables\n",
    "        self.gender = gendering\n",
    "\n",
    "def getNameAsDev(person):\n",
    "    return person._PersonWithSecurity__name\n",
    "\n",
    "person2 = PersonWithSecurity(\"Thang\", 23, \"male\")\n",
    "# person2.__name = \"Gang\"\n",
    "dir(person2)\n",
    "print(getNameAsDev(person2))"
   ]
  },
  {
   "cell_type": "code",
   "execution_count": 28,
   "metadata": {},
   "outputs": [
    {
     "name": "stdout",
     "output_type": "stream",
     "text": [
      "'PersonWithSecurity' object has no attribute '__name'\n"
     ]
    }
   ],
   "source": [
    "def getNameAsUser(person):\n",
    "    return person.__name\n",
    "\n",
    "try:\n",
    "    print(getNameAsUser(person2))\n",
    "except Exception as e:\n",
    "    print(e)"
   ]
  },
  {
   "cell_type": "code",
   "execution_count": 31,
   "metadata": {},
   "outputs": [],
   "source": [
    "class PersonWithProtection:\n",
    "    def __init__(self,name,age, gendering):\n",
    "        self._name = name # protected variables\n",
    "        self._age = age # protected variables\n",
    "        self.gender = gendering\n",
    "\n",
    "class Employee(PersonWithProtection):\n",
    "    def __init__(self, name, age, gendering):\n",
    "        super().__init__(name, age, gendering)\n",
    "\n",
    "employee = Employee(\"Krish\", 34, \"male\")"
   ]
  },
  {
   "cell_type": "code",
   "execution_count": 32,
   "metadata": {},
   "outputs": [
    {
     "name": "stdout",
     "output_type": "stream",
     "text": [
      "Krish\n"
     ]
    }
   ],
   "source": [
    "print(employee._name)"
   ]
  },
  {
   "cell_type": "code",
   "execution_count": 57,
   "metadata": {},
   "outputs": [],
   "source": [
    "import random as rd\n",
    "\n",
    "class SecuredVault:\n",
    "    def __init__(self):\n",
    "        self.__key = 0\n",
    "    \n",
    "    def getKey(self):\n",
    "        return self.__name\n",
    "    \n",
    "    def setRandomKey(self):\n",
    "        self.__key = rd.randint(1, 10)\n",
    "\n",
    "    def setKey(self, key):\n",
    "        self.__key = key\n",
    "\n",
    "    def getKey(self):\n",
    "        return self.__key"
   ]
  },
  {
   "cell_type": "code",
   "execution_count": 64,
   "metadata": {},
   "outputs": [
    {
     "name": "stdout",
     "output_type": "stream",
     "text": [
      "1\n",
      "7\n"
     ]
    }
   ],
   "source": [
    "vault = SecuredVault()\n",
    "vault.setRandomKey()\n",
    "print(vault.getKey())\n",
    "vault.setKey(7)\n",
    "print(vault.getKey())"
   ]
  }
 ],
 "metadata": {
  "kernelspec": {
   "display_name": "Python 3",
   "language": "python",
   "name": "python3"
  },
  "language_info": {
   "codemirror_mode": {
    "name": "ipython",
    "version": 3
   },
   "file_extension": ".py",
   "mimetype": "text/x-python",
   "name": "python",
   "nbconvert_exporter": "python",
   "pygments_lexer": "ipython3",
   "version": "3.10.16"
  }
 },
 "nbformat": 4,
 "nbformat_minor": 2
}
