{
 "cells": [
  {
   "cell_type": "code",
   "execution_count": 60,
   "metadata": {},
   "outputs": [
    {
     "name": "stdout",
     "output_type": "stream",
     "text": [
      "Hello World!\n",
      "This is a new line!\n",
      "\n"
     ]
    }
   ],
   "source": [
    "# Read a Whole File\n",
    "\n",
    "with open('example.txt', 'r') as file:\n",
    "    content = file.read()\n",
    "    print(content)"
   ]
  },
  {
   "cell_type": "code",
   "execution_count": 61,
   "metadata": {},
   "outputs": [
    {
     "name": "stdout",
     "output_type": "stream",
     "text": [
      "Hello World!\n",
      "This is a new line!\n"
     ]
    }
   ],
   "source": [
    "with open('example.txt', 'r') as file:\n",
    "    for line in file:\n",
    "        print(line.strip()) # sstrip() removes the new line character"
   ]
  },
  {
   "cell_type": "code",
   "execution_count": 62,
   "metadata": {},
   "outputs": [],
   "source": [
    "# Writting a file\n",
    "with open('example.txt', 'w') as file:\n",
    "    file.write('Hello World!\\n')\n",
    "    file.write('This is a new Line\\n')\n"
   ]
  },
  {
   "cell_type": "code",
   "execution_count": 63,
   "metadata": {},
   "outputs": [],
   "source": [
    "# Write a file without overwritting\n",
    "with open('example.txt', 'a') as file:\n",
    "    file.write(\"New line\\n\")"
   ]
  },
  {
   "cell_type": "code",
   "execution_count": 64,
   "metadata": {},
   "outputs": [],
   "source": [
    "# Writting list of lines to a file\n",
    "lines = [\"1st line\", \"2nd line\", \"3rd line\"]\n",
    "with open('example.txt', 'a') as file:\n",
    "    file.writelines(lines)"
   ]
  },
  {
   "cell_type": "code",
   "execution_count": 65,
   "metadata": {},
   "outputs": [],
   "source": [
    "# Binary Files\n",
    "\n",
    "#Writting to a binary file\n",
    "data = b'\\x00\\x01\\x02\\x03\\x04'\n",
    "with open('example.bin', 'wb') as file:\n",
    "    file.write(data)"
   ]
  },
  {
   "cell_type": "code",
   "execution_count": 66,
   "metadata": {},
   "outputs": [
    {
     "name": "stdout",
     "output_type": "stream",
     "text": [
      "Hello World!\n",
      "This is a new Line\n",
      "New line\n",
      "1st line2nd line3rd line\n"
     ]
    }
   ],
   "source": [
    "# Read a file then write it to another file\n",
    "with open('example.txt', 'r') as file:\n",
    "    content = file.read()\n",
    "\n",
    "with open('example_out.txt', 'w') as file:\n",
    "    destination_file = file.write(content)\n",
    "\n",
    "with open('example.txt', 'r') as file:\n",
    "    print(file.read())"
   ]
  },
  {
   "cell_type": "code",
   "execution_count": 67,
   "metadata": {},
   "outputs": [
    {
     "name": "stdout",
     "output_type": "stream",
     "text": [
      "Hello World!\n",
      "\n",
      "This is a new Line\n",
      "\n",
      "New line\n",
      "\n",
      "1st line2nd line3rd line\n",
      "4\n",
      "13\n",
      "65\n"
     ]
    }
   ],
   "source": [
    "# Read a text file and count the number of lines, words and characters\n",
    "num_line = 0\n",
    "num_word = 0\n",
    "num_char = 0\n",
    "with open('example.txt', 'r') as file:\n",
    "    lines = file.readlines()\n",
    "    for i in lines:\n",
    "        print(i)\n",
    "    num_line = len(lines)\n",
    "    num_word = sum(len(line.split()) for line in lines)\n",
    "    num_char = sum(len(line) for line in lines)\n",
    "print(num_line)\n",
    "print(num_word)\n",
    "print(num_char)"
   ]
  },
  {
   "cell_type": "code",
   "execution_count": null,
   "metadata": {},
   "outputs": [
    {
     "name": "stdout",
     "output_type": "stream",
     "text": [
      "Hello World!\n",
      "This is a new line!\n",
      "\n"
     ]
    }
   ],
   "source": [
    "# Writting and then reading a file\n",
    "with open('example.txt', 'w+') as file:\n",
    "    file.write('Hello World!\\n')\n",
    "    file.write('This is a new line!\\n')\n",
    "\n",
    "    # move the file cursor to t         he beginning\n",
    "    file.seek(0)\n",
    "    print(file.read())\n"
   ]
  }
 ],
 "metadata": {
  "kernelspec": {
   "display_name": "Python 3",
   "language": "python",
   "name": "python3"
  },
  "language_info": {
   "codemirror_mode": {
    "name": "ipython",
    "version": 3
   },
   "file_extension": ".py",
   "mimetype": "text/x-python",
   "name": "python",
   "nbconvert_exporter": "python",
   "pygments_lexer": "ipython3",
   "version": "3.10.16"
  }
 },
 "nbformat": 4,
 "nbformat_minor": 2
}
