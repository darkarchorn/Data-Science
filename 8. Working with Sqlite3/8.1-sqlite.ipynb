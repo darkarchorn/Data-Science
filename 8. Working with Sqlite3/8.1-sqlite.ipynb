{
 "cells": [
  {
   "cell_type": "markdown",
   "id": "f7906e64",
   "metadata": {},
   "source": [
    "## SQL And SQLite\n",
    "\n",
    "SQL (Structure Query Language) is a standard language for managing and manipulating relational databases. SQLite is a self-contained, serverless, and zero-configuration database engine that is widely used for embedded database systems. In this lesson, we will cover the basics of SQL and SQLite, including creating databases, tables, and performing verious SQL operations."
   ]
  },
  {
   "cell_type": "code",
   "execution_count": 1,
   "id": "6e328b24",
   "metadata": {},
   "outputs": [],
   "source": [
    "import sqlite3"
   ]
  },
  {
   "cell_type": "code",
   "execution_count": 3,
   "id": "f9a38484",
   "metadata": {},
   "outputs": [
    {
     "data": {
      "text/plain": [
       "<sqlite3.Connection at 0x1dd1b80a840>"
      ]
     },
     "execution_count": 3,
     "metadata": {},
     "output_type": "execute_result"
    }
   ],
   "source": [
    "## Connect to an SQLite database\n",
    "connection = sqlite3.connect('example.db')\n",
    "connection"
   ]
  },
  {
   "cell_type": "code",
   "execution_count": 4,
   "id": "b3c41f96",
   "metadata": {},
   "outputs": [],
   "source": [
    "cursor = connection.cursor()"
   ]
  },
  {
   "cell_type": "code",
   "execution_count": 6,
   "id": "903d2cb5",
   "metadata": {},
   "outputs": [],
   "source": [
    "## Create a Table\n",
    "cursor.execute('''\n",
    "create table if not exists employees(\n",
    "               id Integer Primary Key,\n",
    "               name Text Not Null,\n",
    "               age Integer,\n",
    "               department text\n",
    "               )\n",
    "               ''')\n",
    "\n",
    "#Commit the changes\n",
    "connection.commit()"
   ]
  },
  {
   "cell_type": "code",
   "execution_count": 7,
   "id": "4826b866",
   "metadata": {},
   "outputs": [
    {
     "data": {
      "text/plain": [
       "<sqlite3.Cursor at 0x1dd1ca448c0>"
      ]
     },
     "execution_count": 7,
     "metadata": {},
     "output_type": "execute_result"
    }
   ],
   "source": [
    "cursor.execute('''\n",
    "Select * from employees\n",
    "               ''')"
   ]
  },
  {
   "cell_type": "code",
   "execution_count": 11,
   "id": "56e7bab1",
   "metadata": {},
   "outputs": [],
   "source": [
    "## Insert data in sqlite3\n",
    "cursor.execute('''\n",
    "Insert into employees(name, age, department)\n",
    "               values(\"Thang\", 23, 'IT');\n",
    "               ''')\n",
    "cursor.execute('''\n",
    "Insert into employees(name, age, department)\n",
    "               values(\"Chau\", 24, 'Dev');\n",
    "               ''')\n",
    "cursor.execute('''\n",
    "Insert into employees(name, age, department)\n",
    "               values(\"Anh\", 23, 'NY');\n",
    "               ''')\n",
    "connection.commit()"
   ]
  },
  {
   "cell_type": "code",
   "execution_count": 12,
   "id": "b53f7d08",
   "metadata": {},
   "outputs": [
    {
     "data": {
      "text/plain": [
       "<sqlite3.Cursor at 0x1dd1ca448c0>"
      ]
     },
     "execution_count": 12,
     "metadata": {},
     "output_type": "execute_result"
    }
   ],
   "source": [
    "cursor.execute('''\n",
    "Select * from employees\n",
    "               ''')"
   ]
  },
  {
   "cell_type": "code",
   "execution_count": 13,
   "id": "6f78436f",
   "metadata": {},
   "outputs": [
    {
     "name": "stdout",
     "output_type": "stream",
     "text": [
      "(1, 'Thang', 23, 'IT')\n",
      "(2, 'Chau', 24, 'Dev')\n",
      "(3, 'Anh', 23, 'NY')\n"
     ]
    }
   ],
   "source": [
    "## Query data\n",
    "cursor.execute('Select * from employees')\n",
    "rows = cursor.fetchall()\n",
    "\n",
    "# Print\n",
    "for row in rows:\n",
    "    print(row)"
   ]
  },
  {
   "cell_type": "code",
   "execution_count": 15,
   "id": "11cb7813",
   "metadata": {},
   "outputs": [
    {
     "data": {
      "text/plain": [
       "<sqlite3.Cursor at 0x1dd1ca448c0>"
      ]
     },
     "execution_count": 15,
     "metadata": {},
     "output_type": "execute_result"
    }
   ],
   "source": [
    "## Update data\n",
    "cursor.execute('''\n",
    "UPDATE employees\n",
    "               set age = 34 where name like 'C%';\n",
    "               ''')"
   ]
  },
  {
   "cell_type": "code",
   "execution_count": 16,
   "id": "27b04b92",
   "metadata": {},
   "outputs": [
    {
     "name": "stdout",
     "output_type": "stream",
     "text": [
      "(1, 'Thang', 23, 'IT')\n",
      "(2, 'Chau', 34, 'Dev')\n",
      "(3, 'Anh', 23, 'NY')\n"
     ]
    }
   ],
   "source": [
    "## Query data\n",
    "cursor.execute('Select * from employees')\n",
    "rows = cursor.fetchall()\n",
    "\n",
    "# Print\n",
    "for row in rows:\n",
    "    print(row)"
   ]
  },
  {
   "cell_type": "code",
   "execution_count": 19,
   "id": "5351b548",
   "metadata": {},
   "outputs": [
    {
     "data": {
      "text/plain": [
       "<sqlite3.Cursor at 0x1dd1ca448c0>"
      ]
     },
     "execution_count": 19,
     "metadata": {},
     "output_type": "execute_result"
    }
   ],
   "source": [
    "## Can also delete data\n",
    "cursor.execute('''Delete from employees where department = \"IT\"''')"
   ]
  },
  {
   "cell_type": "code",
   "execution_count": 20,
   "id": "c68df817",
   "metadata": {},
   "outputs": [
    {
     "name": "stdout",
     "output_type": "stream",
     "text": [
      "(2, 'Chau', 34, 'Dev')\n",
      "(3, 'Anh', 23, 'NY')\n"
     ]
    }
   ],
   "source": [
    "## Query data\n",
    "cursor.execute('Select * from employees')\n",
    "rows = cursor.fetchall()\n",
    "\n",
    "# Print\n",
    "for row in rows:\n",
    "    print(row)"
   ]
  },
  {
   "cell_type": "code",
   "execution_count": 22,
   "id": "ae5edd6e",
   "metadata": {},
   "outputs": [],
   "source": [
    "# Bulk statement\n",
    "new_emp = [('Hai', '24', 'Sales'),\n",
    "           ('Ly','25','Teacher')]\n",
    "cursor.executemany('''Insert into employees (name, age, department) values (?,?,?)''', new_emp)\n",
    "connection.commit()"
   ]
  },
  {
   "cell_type": "code",
   "execution_count": 26,
   "id": "0caf8b0c",
   "metadata": {},
   "outputs": [
    {
     "name": "stdout",
     "output_type": "stream",
     "text": [
      "[(2, 'Chau', 34, 'Dev'), (3, 'Anh', 23, 'NY'), (4, 'Hai', 24, 'Sales'), (5, 'Ly', 25, 'Teacher')]\n"
     ]
    }
   ],
   "source": [
    "cursor.execute(\"Select * from employees\")\n",
    "\n",
    "rows = cursor.fetchall()\n",
    "\n",
    "print(rows)"
   ]
  },
  {
   "cell_type": "code",
   "execution_count": 27,
   "id": "4feefc05",
   "metadata": {},
   "outputs": [],
   "source": [
    "# Close connection\n",
    "connection.close()"
   ]
  }
 ],
 "metadata": {
  "kernelspec": {
   "display_name": "Python 3",
   "language": "python",
   "name": "python3"
  },
  "language_info": {
   "codemirror_mode": {
    "name": "ipython",
    "version": 3
   },
   "file_extension": ".py",
   "mimetype": "text/x-python",
   "name": "python",
   "nbconvert_exporter": "python",
   "pygments_lexer": "ipython3",
   "version": "3.10.16"
  }
 },
 "nbformat": 4,
 "nbformat_minor": 5
}
