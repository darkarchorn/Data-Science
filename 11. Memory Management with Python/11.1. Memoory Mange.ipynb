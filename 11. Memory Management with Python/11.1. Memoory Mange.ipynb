{
 "cells": [
  {
   "cell_type": "markdown",
   "id": "e93cffb9",
   "metadata": {},
   "source": [
    "## Python Memory Management\n",
    "Memory management in Python involves a combination of automatic garbage collection, reference counting, and various internal optimizations to efficiently mange memory allocation an deallocation. Understanding these mechanisms can help developers write more efficient and robust applications"
   ]
  },
  {
   "cell_type": "markdown",
   "id": "5d07378d",
   "metadata": {},
   "source": [
    "1. Key Concepts in Python Memory Management\n",
    "2. Memory Allocation and Deallocation\n",
    "3. Reference Counting\n",
    "4. Garbage Collection\n",
    "5. The gc Module\n",
    "6. Memory Management Best Practice"
   ]
  },
  {
   "cell_type": "markdown",
   "id": "637f4621",
   "metadata": {},
   "source": [
    "### Reference Counting\n",
    "Reference counting is the promary method Python uses to manage memory. Each object in Python maintains a count of references pointing to it. When the reference count drops to szero, the memory ocupied by the object is deallocated."
   ]
  },
  {
   "cell_type": "code",
   "execution_count": 1,
   "id": "10d1d777",
   "metadata": {},
   "outputs": [
    {
     "name": "stdout",
     "output_type": "stream",
     "text": [
      "2\n"
     ]
    }
   ],
   "source": [
    "import sys\n",
    "\n",
    "a = []\n",
    "print(sys.getrefcount(a))\n",
    "\n",
    "# we get 2\n",
    "# One reference is from 'a' and one from getrefcount()"
   ]
  },
  {
   "cell_type": "code",
   "execution_count": 2,
   "id": "f030661c",
   "metadata": {},
   "outputs": [
    {
     "name": "stdout",
     "output_type": "stream",
     "text": [
      "3\n",
      "3\n"
     ]
    }
   ],
   "source": [
    "b = a\n",
    "print(sys.getrefcount(a))\n",
    "print(sys.getrefcount(b))"
   ]
  },
  {
   "cell_type": "code",
   "execution_count": 3,
   "id": "078771c3",
   "metadata": {},
   "outputs": [
    {
     "name": "stdout",
     "output_type": "stream",
     "text": [
      "2\n"
     ]
    }
   ],
   "source": [
    "del b\n",
    "print(sys.getrefcount(a))"
   ]
  },
  {
   "cell_type": "markdown",
   "id": "bc6a390e",
   "metadata": {},
   "source": [
    "### Garbage Collection\n",
    "Python includes a cyclic garbage collector to handle reference cycles. Reference cycles occur when objects reference each other, preventing their counts from reaching zero."
   ]
  },
  {
   "cell_type": "code",
   "execution_count": 7,
   "id": "9a690f8d",
   "metadata": {},
   "outputs": [],
   "source": [
    "import gc #garbage collection\n",
    "gc.enable()"
   ]
  },
  {
   "cell_type": "code",
   "execution_count": 5,
   "id": "36e4e253",
   "metadata": {},
   "outputs": [],
   "source": [
    "gc.disable()"
   ]
  },
  {
   "cell_type": "code",
   "execution_count": 6,
   "id": "f9168a3c",
   "metadata": {},
   "outputs": [
    {
     "data": {
      "text/plain": [
       "62"
      ]
     },
     "execution_count": 6,
     "metadata": {},
     "output_type": "execute_result"
    }
   ],
   "source": [
    "gc.collect()"
   ]
  },
  {
   "cell_type": "code",
   "execution_count": 8,
   "id": "27f0bd11",
   "metadata": {},
   "outputs": [
    {
     "name": "stdout",
     "output_type": "stream",
     "text": [
      "[{'collections': 371, 'collected': 1810, 'uncollectable': 0}, {'collections': 33, 'collected': 640, 'uncollectable': 0}, {'collections': 3, 'collected': 90, 'uncollectable': 0}]\n"
     ]
    }
   ],
   "source": [
    "### Get garbage collection stats\n",
    "print(gc.get_stats())"
   ]
  },
  {
   "cell_type": "code",
   "execution_count": 9,
   "id": "3bbefdaa",
   "metadata": {},
   "outputs": [
    {
     "name": "stdout",
     "output_type": "stream",
     "text": [
      "[]\n"
     ]
    }
   ],
   "source": [
    "### Get unreachable objects\n",
    "print(gc.garbage)"
   ]
  },
  {
   "cell_type": "markdown",
   "id": "80c799f2",
   "metadata": {},
   "source": [
    "### Memory Management Best Practices\n",
    "1. Use Local Variables: Local variables have a shorter lifespan and are freed sooner than global variables.\n",
    "2. Avoid Cercular References: Circular references can lead to memory leaks if not properly managed.\n",
    "3. Use Generators: Generators produce items one at a time and only keep one item in memory at a time, making them memory efficient.\n",
    "4. Explicitly Delete Objects: Use the del statement to delete variables and objects explicitly.\n",
    "5. Profile Memory Usage: Use memory profiling tools like `tracemalloc` and `memory_profiler` to identify memory leaks and optimize memory usage"
   ]
  },
  {
   "cell_type": "code",
   "execution_count": 15,
   "id": "62c4f66d",
   "metadata": {},
   "outputs": [
    {
     "name": "stdout",
     "output_type": "stream",
     "text": [
      "Object obj1 created!\n",
      "Object obj2 created!\n"
     ]
    }
   ],
   "source": [
    "import gc\n",
    "\n",
    "class MyObject:\n",
    "    def __init__(self, name):\n",
    "        self.name = name\n",
    "        print(f\"Object {name} created!\")\n",
    "\n",
    "    def __del__(self):\n",
    "        print(f\"Object {self.name} deleted!\")\n",
    "\n",
    "    def __str__(self):\n",
    "        return f\"Object: {self.name}\"\n",
    "\n",
    "obj1= MyObject(\"obj1\")\n",
    "obj2 = MyObject(\"obj2\")\n",
    "\n",
    "#Circular reference\n",
    "obj1.ref = obj2\n",
    "obj2.ref = obj1"
   ]
  },
  {
   "cell_type": "code",
   "execution_count": 13,
   "id": "a8afd3f2",
   "metadata": {},
   "outputs": [],
   "source": [
    "del obj1\n",
    "del obj2\n",
    "# The circular referenced objects cant be deleted using del keyword."
   ]
  },
  {
   "cell_type": "code",
   "execution_count": 21,
   "id": "6b1758ca",
   "metadata": {},
   "outputs": [
    {
     "data": {
      "text/plain": [
       "0"
      ]
     },
     "execution_count": 21,
     "metadata": {},
     "output_type": "execute_result"
    }
   ],
   "source": [
    "#Manually trigger the garbage collection\n",
    "gc.collect()\n",
    "\n",
    "# The gc.collect() returns a big number, as the objects are curcularly referenced"
   ]
  },
  {
   "cell_type": "code",
   "execution_count": null,
   "id": "5249722a",
   "metadata": {},
   "outputs": [],
   "source": [
    "# All the collected garbage:\n",
    "print(f\"Garbage collected objects: {gc.garbage}\")"
   ]
  },
  {
   "cell_type": "code",
   "execution_count": 1,
   "id": "2c903c7d",
   "metadata": {},
   "outputs": [
    {
     "name": "stdout",
     "output_type": "stream",
     "text": [
      "0\n",
      "1\n",
      "2\n",
      "3\n",
      "4\n",
      "5\n",
      "6\n",
      "7\n",
      "8\n",
      "9\n",
      "10\n",
      "11\n"
     ]
    }
   ],
   "source": [
    "## Generators For memory Efficiency\n",
    "# Generators allow you to produce items one at a time, using memory efficently by only keeping one item in memory at a time\n",
    "\n",
    "def generate_numbers(n):\n",
    "    for i in range(n):\n",
    "        yield i\n",
    "\n",
    "#using the generator\n",
    "for num in generate_numbers(1000000):\n",
    "    print(num)\n",
    "    if num > 10:\n",
    "        break"
   ]
  },
  {
   "cell_type": "code",
   "execution_count": 9,
   "id": "45ce9fae",
   "metadata": {},
   "outputs": [],
   "source": [
    "## Profiling memory usage with tracemalloc\n",
    "import tracemalloc\n",
    "\n",
    "def create_list():\n",
    "    return [i for i in range(10000)]\n",
    "\n",
    "def main():\n",
    "    tracemalloc.start()\n",
    "    create_list()\n",
    "    snapshot = tracemalloc.take_snapshot()\n",
    "    top_stats  = snapshot.statistics('lineno')\n",
    "\n",
    "    print(\"[ Top 10 ]\")\n",
    "    for stat in top_stats[:10]:\n",
    "        print(stat)"
   ]
  },
  {
   "cell_type": "code",
   "execution_count": 10,
   "id": "81608451",
   "metadata": {},
   "outputs": [
    {
     "name": "stdout",
     "output_type": "stream",
     "text": [
      "[ Top 10 ]\n",
      "c:\\Users\\Phan Duy Thang\\Desktop\\Coding Folder\\Python\\venv\\lib\\ast.py:50: size=2751 KiB, count=55895, average=50 B\n",
      "c:\\Users\\Phan Duy Thang\\Desktop\\Coding Folder\\Python\\venv\\lib\\site-packages\\executing\\executing.py:171: size=492 KiB, count=6741, average=75 B\n",
      "c:\\Users\\Phan Duy Thang\\Desktop\\Coding Folder\\Python\\venv\\lib\\linecache.py:137: size=387 KiB, count=3811, average=104 B\n",
      "c:\\Users\\Phan Duy Thang\\Desktop\\Coding Folder\\Python\\venv\\lib\\site-packages\\executing\\executing.py:154: size=385 KiB, count=3826, average=103 B\n",
      "c:\\Users\\Phan Duy Thang\\Desktop\\Coding Folder\\Python\\venv\\lib\\site-packages\\executing\\executing.py:169: size=309 KiB, count=889, average=356 B\n",
      "c:\\Users\\Phan Duy Thang\\Desktop\\Coding Folder\\Python\\venv\\lib\\ntpath.py:708: size=170 KiB, count=863, average=202 B\n",
      "c:\\Users\\Phan Duy Thang\\Desktop\\Coding Folder\\Python\\venv\\lib\\site-packages\\executing\\executing.py:153: size=170 KiB, count=3, average=56.5 KiB\n",
      "c:\\Users\\Phan Duy Thang\\Desktop\\Coding Folder\\Python\\venv\\lib\\selectors.py:315: size=144 KiB, count=3, average=48.0 KiB\n",
      "c:\\Users\\Phan Duy Thang\\Desktop\\Coding Folder\\Python\\venv\\lib\\site-packages\\asttokens\\line_numbers.py:47: size=139 KiB, count=749, average=190 B\n",
      "c:\\Users\\Phan Duy Thang\\Desktop\\Coding Folder\\Python\\venv\\lib\\ntpath.py:705: size=126 KiB, count=863, average=149 B\n"
     ]
    }
   ],
   "source": [
    "main()"
   ]
  }
 ],
 "metadata": {
  "kernelspec": {
   "display_name": "Python 3",
   "language": "python",
   "name": "python3"
  },
  "language_info": {
   "codemirror_mode": {
    "name": "ipython",
    "version": 3
   },
   "file_extension": ".py",
   "mimetype": "text/x-python",
   "name": "python",
   "nbconvert_exporter": "python",
   "pygments_lexer": "ipython3",
   "version": "3.10.16"
  }
 },
 "nbformat": 4,
 "nbformat_minor": 5
}
