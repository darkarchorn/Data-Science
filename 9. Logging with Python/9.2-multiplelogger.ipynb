{
 "cells": [
  {
   "cell_type": "markdown",
   "id": "50fd1cd5",
   "metadata": {},
   "source": [
    "## Logging with Multiple Loggers\n",
    "\n",
    "You can create multiple loggers for different parts of your application."
   ]
  },
  {
   "cell_type": "code",
   "execution_count": 1,
   "id": "471504b0",
   "metadata": {},
   "outputs": [],
   "source": [
    "import logging\n",
    "## Create a logger for module1\n",
    "logger1 = logging.getLogger(\"module1\")\n",
    "logger1.setLevel(logging.DEBUG)\n",
    "\n",
    "## Create a logger for module2\n",
    "logger2 = logging.getLogger(\"module2\")\n",
    "logger2.setLevel(logging.WARNING)\n",
    "\n",
    "logging.basicConfig(\n",
    "    level=logging.DEBUG,\n",
    "    format='%(asctime)s-%(name)s-%(levelname)s-%(message)s',\n",
    "    datefmt='%Y-%m-%d %H:%M:%S',\n",
    "    force=True\n",
    ")"
   ]
  },
  {
   "cell_type": "code",
   "execution_count": 2,
   "id": "20184593",
   "metadata": {},
   "outputs": [
    {
     "name": "stderr",
     "output_type": "stream",
     "text": [
      "2025-05-08 11:13:13-module1-DEBUG-This is debug message for module1\n",
      "2025-05-08 11:13:13-module2-WARNING-This is warning message for module2\n",
      "2025-05-08 11:13:13-module2-ERROR-This is a sample error message of module2\n"
     ]
    }
   ],
   "source": [
    "## Log message with different loggers\n",
    "logger1.debug(\"This is debug message for module1\")\n",
    "logger2.warning(\"This is warning message for module2\")\n",
    "logger2.error(\"This is a sample error message of module2\")"
   ]
  }
 ],
 "metadata": {
  "kernelspec": {
   "display_name": "Python 3",
   "language": "python",
   "name": "python3"
  },
  "language_info": {
   "codemirror_mode": {
    "name": "ipython",
    "version": 3
   },
   "file_extension": ".py",
   "mimetype": "text/x-python",
   "name": "python",
   "nbconvert_exporter": "python",
   "pygments_lexer": "ipython3",
   "version": "3.10.16"
  }
 },
 "nbformat": 4,
 "nbformat_minor": 5
}
