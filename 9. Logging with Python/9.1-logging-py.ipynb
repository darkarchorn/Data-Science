{
 "cells": [
  {
   "cell_type": "markdown",
   "id": "4a4f5859",
   "metadata": {},
   "source": [
    "## Python Logging\n",
    "\n",
    "Logging is a crucial aspect of any application, providing a way to track events, errors, and operational information, Python's built-in logging module offers a flexible framework for emitting log messages from Python programs. In this lesson, we will cover the basics of logging, including how to configure logging, log levels, and best practices for using logging in Python applications."
   ]
  },
  {
   "cell_type": "code",
   "execution_count": 1,
   "id": "cd6a5f48",
   "metadata": {},
   "outputs": [],
   "source": [
    "import logging"
   ]
  },
  {
   "cell_type": "code",
   "execution_count": 2,
   "id": "40815650",
   "metadata": {},
   "outputs": [
    {
     "name": "stderr",
     "output_type": "stream",
     "text": [
      "DEBUG:root:This is a debug message\n",
      "INFO:root:This is an info message\n",
      "WARNING:root:This is a warning message\n",
      "ERROR:root:This is an error message\n",
      "CRITICAL:root:This is a critical message\n"
     ]
    }
   ],
   "source": [
    "## Configure the basic logging settings\n",
    "# logging.basicConfig(level=logging.DEBUG)\n",
    "\n",
    "## log messages with different severity levels\n",
    "logging.basicConfig(\n",
    "    level=logging.DEBUG\n",
    ")\n",
    "logging.debug(\"This is a debug message\")\n",
    "logging.info(\"This is an info message\")\n",
    "logging.warning(\"This is a warning message\")\n",
    "logging.error(\"This is an error message\")\n",
    "logging.critical(\"This is a critical message\")"
   ]
  },
  {
   "cell_type": "markdown",
   "id": "1c436c96",
   "metadata": {},
   "source": [
    "## Log Levels\n",
    "Python's logging module has several log levels indicating the severity of events. The default levels are:\n",
    "- `DEBUG`: Detailed information, typically of interest only when diagnosing problems.\n",
    "- `INFO`: Confirmation that things are working as expected.\n",
    "- `WARNING`: An indication that something unexpected happened or idicative of some problem in the near future (e.g., 'dis space low'). The software is still working as expected.\n",
    "- `ERROR`: Due to a more serious problem, the software has not been able to perform some functions.\n",
    "- `CRITICAL`: A very serious error, indicating that the program itself may be unable to continue running."
   ]
  },
  {
   "cell_type": "code",
   "execution_count": 3,
   "id": "6b50742c",
   "metadata": {},
   "outputs": [
    {
     "name": "stderr",
     "output_type": "stream",
     "text": [
      "2025-05-08 10:53:33-root-DEBUG-This is a debug message\n",
      "2025-05-08 10:53:33-root-INFO-This is an info message\n",
      "2025-05-08 10:53:33-root-WARNING-This is a warning message\n",
      "2025-05-08 10:53:33-root-ERROR-This is an error message\n",
      "2025-05-08 10:53:33-root-CRITICAL-This is a critical message\n"
     ]
    }
   ],
   "source": [
    "logging.basicConfig(\n",
    "    level=logging.DEBUG,\n",
    "    format='%(asctime)s-%(name)s-%(levelname)s-%(message)s',\n",
    "    datefmt='%Y-%m-%d %H:%M:%S',\n",
    "    force=True\n",
    ")\n",
    "logging.debug(\"This is a debug message\")\n",
    "logging.info(\"This is an info message\")\n",
    "logging.warning(\"This is a warning message\")\n",
    "logging.error(\"This is an error message\")\n",
    "logging.critical(\"This is a critical message\")"
   ]
  },
  {
   "cell_type": "code",
   "execution_count": 8,
   "id": "993b251d",
   "metadata": {},
   "outputs": [],
   "source": [
    "logging.basicConfig(\n",
    "    filename='app.log',\n",
    "    filemode='a',\n",
    "    level=logging.DEBUG,\n",
    "    format='%(asctime)s-%(name)s-%(levelname)s-%(message)s',\n",
    "    datefmt='%Y-%m-%d %H:%M:%S',\n",
    "    force=True\n",
    ")\n",
    "\n",
    "logging.debug(\"This is a debug message for file\")\n",
    "logging.info(\"This is an info message for file\")\n",
    "logging.warning(\"This is a warning message for file\")\n",
    "logging.error(\"This is an error message for file\")\n",
    "logging.critical(\"This is a critical message for file\")"
   ]
  },
  {
   "cell_type": "code",
   "execution_count": null,
   "id": "1885b09e",
   "metadata": {},
   "outputs": [],
   "source": []
  }
 ],
 "metadata": {
  "kernelspec": {
   "display_name": "Python 3",
   "language": "python",
   "name": "python3"
  },
  "language_info": {
   "codemirror_mode": {
    "name": "ipython",
    "version": 3
   },
   "file_extension": ".py",
   "mimetype": "text/x-python",
   "name": "python",
   "nbconvert_exporter": "python",
   "pygments_lexer": "ipython3",
   "version": "3.10.16"
  }
 },
 "nbformat": 4,
 "nbformat_minor": 5
}
