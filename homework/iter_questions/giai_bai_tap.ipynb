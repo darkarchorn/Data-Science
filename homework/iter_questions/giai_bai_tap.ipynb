{
 "cells": [
  {
   "cell_type": "markdown",
   "metadata": {},
   "source": [
    "ASS1: Create a custom iterator class named `Countdown` that takes a number and counts down to zero. Implement the `__iter__` and `__next__` methods. Test the iterator by using it in a for loop."
   ]
  },
  {
   "cell_type": "code",
   "execution_count": 22,
   "metadata": {},
   "outputs": [],
   "source": [
    "class Countdown:\n",
    "    def __init__(self, n):\n",
    "        self.n = n\n",
    "    \n",
    "    def __iter__(self):\n",
    "        return self\n",
    "    \n",
    "    def __next__(self):\n",
    "        if self.n <= 0:\n",
    "            raise StopIteration\n",
    "        else:\n",
    "            self.n = self.n - 1\n",
    "        return self.n"
   ]
  },
  {
   "cell_type": "code",
   "execution_count": 23,
   "metadata": {},
   "outputs": [],
   "source": [
    "cd = Countdown(5)"
   ]
  },
  {
   "cell_type": "code",
   "execution_count": 24,
   "metadata": {},
   "outputs": [
    {
     "name": "stdout",
     "output_type": "stream",
     "text": [
      "4\n"
     ]
    }
   ],
   "source": [
    "print(next(cd))"
   ]
  },
  {
   "cell_type": "markdown",
   "metadata": {},
   "source": [
    "### Assignment 2: Custom Iterable Class\n",
    "\n",
    "Create a class named `MyRange` that mimics the behavior of the built-in `range` function. Implement the `__iter__` and `__next__` methods. Test the class by using it in a for loop."
   ]
  },
  {
   "cell_type": "code",
   "execution_count": 25,
   "metadata": {},
   "outputs": [],
   "source": [
    "class MyRange:\n",
    "    def __init__(self, start, end):\n",
    "        self.current = start\n",
    "        self.end = end\n",
    "\n",
    "    def __iter__(self):\n",
    "        return self\n",
    "    \n",
    "    def __next__(self):\n",
    "        if self.current >= self.end:\n",
    "            raise StopIteration\n",
    "        else:\n",
    "            self.current+=1\n",
    "            return self.current-1"
   ]
  },
  {
   "cell_type": "code",
   "execution_count": 26,
   "metadata": {},
   "outputs": [
    {
     "name": "stdout",
     "output_type": "stream",
     "text": [
      "1\n",
      "2\n",
      "3\n",
      "4\n"
     ]
    }
   ],
   "source": [
    "for number in MyRange(1, 5):\n",
    "    print(number)"
   ]
  },
  {
   "cell_type": "markdown",
   "metadata": {},
   "source": [
    "### Assignment 3: Generator Function\n",
    "\n",
    "Write a generator function named `fibonacci` that yields the Fibonacci sequence. Test the generator by iterating over it and printing the first 10 Fibonacci numbers."
   ]
  },
  {
   "cell_type": "code",
   "execution_count": 27,
   "metadata": {},
   "outputs": [],
   "source": [
    "class fibonacci:\n",
    "    def __init__(self, end):\n",
    "        self.a = 1\n",
    "        self.b = 1\n",
    "        self.current = 1\n",
    "        self.end = end\n",
    "    \n",
    "    def __iter__(self):\n",
    "        return self\n",
    "    \n",
    "    def __next__(self):\n",
    "        if self.current > self.end:\n",
    "            raise StopIteration\n",
    "        else:\n",
    "            self.a, self.b = self.b, self.a + self.b\n",
    "            self.current = self.current + 1\n",
    "        return self.b"
   ]
  },
  {
   "cell_type": "code",
   "execution_count": 28,
   "metadata": {},
   "outputs": [],
   "source": [
    "f = fibonacci(10)"
   ]
  },
  {
   "cell_type": "code",
   "execution_count": 29,
   "metadata": {},
   "outputs": [
    {
     "name": "stdout",
     "output_type": "stream",
     "text": [
      "2\n",
      "3\n",
      "5\n",
      "8\n",
      "13\n",
      "21\n",
      "34\n",
      "55\n",
      "89\n",
      "144\n"
     ]
    }
   ],
   "source": [
    "for i in f:\n",
    "    print(i)"
   ]
  },
  {
   "cell_type": "code",
   "execution_count": 30,
   "metadata": {},
   "outputs": [
    {
     "name": "stdout",
     "output_type": "stream",
     "text": [
      "1\n",
      "1\n",
      "2\n",
      "3\n",
      "5\n",
      "8\n",
      "13\n",
      "21\n",
      "34\n",
      "55\n"
     ]
    }
   ],
   "source": [
    "## Fibonacci generator function:\n",
    "def fibonacci_function():\n",
    "    a, b = 1, 1\n",
    "    while True:\n",
    "        yield a\n",
    "        a, b = b, a + b\n",
    "\n",
    "# Create the generator\n",
    "fib_gen = fibonacci_function()\n",
    "\n",
    "# Print the first 10 Fibonacci numbers\n",
    "for _ in range(10):\n",
    "    print(next(fib_gen))\n"
   ]
  },
  {
   "cell_type": "markdown",
   "metadata": {},
   "source": [
    "### Assignment 4: Generator Expression\n",
    "\n",
    "Create a generator expression that generates the squares of numbers from 1 to 10. Iterate over the generator and print each value."
   ]
  },
  {
   "cell_type": "code",
   "execution_count": 31,
   "metadata": {},
   "outputs": [],
   "source": [
    "square = (i**2 for i in range(1,11))"
   ]
  },
  {
   "cell_type": "code",
   "execution_count": 32,
   "metadata": {},
   "outputs": [
    {
     "name": "stdout",
     "output_type": "stream",
     "text": [
      "1\n",
      "4\n",
      "9\n",
      "16\n",
      "25\n",
      "36\n",
      "49\n",
      "64\n",
      "81\n",
      "100\n"
     ]
    }
   ],
   "source": [
    "for i in square:\n",
    "    print(i)"
   ]
  },
  {
   "cell_type": "markdown",
   "metadata": {},
   "source": [
    "### Assignment 5: Chaining Generators\n",
    "\n",
    "Write two generator functions: `even_numbers` that yields even numbers up to a limit, and `squares` that yields the square of each number from another generator. Chain these generators to produce the squares of even numbers up to 20."
   ]
  },
  {
   "cell_type": "code",
   "execution_count": 33,
   "metadata": {},
   "outputs": [],
   "source": [
    "def even_numbers(n):\n",
    "    for i in range(0, n+1):\n",
    "        if i % 2 == 0:\n",
    "            yield i\n",
    "\n",
    "def squares(l):\n",
    "    for i in l:\n",
    "        yield i**2"
   ]
  },
  {
   "cell_type": "code",
   "execution_count": 34,
   "metadata": {},
   "outputs": [
    {
     "name": "stdout",
     "output_type": "stream",
     "text": [
      "0\n",
      "4\n",
      "16\n",
      "36\n",
      "64\n",
      "100\n"
     ]
    }
   ],
   "source": [
    "for i in squares(even_numbers(10)):\n",
    "    print(i)"
   ]
  },
  {
   "cell_type": "markdown",
   "metadata": {},
   "source": [
    "### Assignment 6: Simple Decorator\n",
    "\n",
    "Write a decorator named `time_it` that measures the execution time of a function. Apply this decorator to a function that calculates the factorial of a number."
   ]
  },
  {
   "cell_type": "code",
   "execution_count": 35,
   "metadata": {},
   "outputs": [],
   "source": [
    "import time\n",
    "\n",
    "def time_it(func):\n",
    "    def wrapper(*args, **kwargs):\n",
    "        start_time = time.time()\n",
    "        result = func(*args, **kwargs)\n",
    "        end_time = time.time()\n",
    "        print(f\"Time to execute: {end_time - start_time}\")\n",
    "        return result\n",
    "    return wrapper\n",
    "\n",
    "@time_it\n",
    "def fibonacci_1(n):\n",
    "    if n == 1:\n",
    "        return 1\n",
    "    if n == 2:\n",
    "        return 1\n",
    "    a, b = 1, 1\n",
    "    for i in range(n):\n",
    "        a, b = b, a+b\n",
    "    return b"
   ]
  },
  {
   "cell_type": "code",
   "execution_count": 36,
   "metadata": {},
   "outputs": [
    {
     "name": "stdout",
     "output_type": "stream",
     "text": [
      "Time to execute: 0.005005836486816406\n"
     ]
    },
    {
     "data": {
      "text/plain": [
       "9754127354447731664413464877733194642324162792154990277417906043260981700928350843612737359888951573660962713912365529681569456686655351237894935384042220801220882049324010924553031788263232667669395835460595613868586607590722580174611190230505848926683274986885438381310759325261767284171806619155670742105041612838874997686605998240595985226676071288207099679889619094124815694288115706853096471583308341099304022789310697352409404663792413151019974961646662692476926455507726209503091764128212251301110233774919326592483263183948463380192520278297720868314170290776202527389709110685428211398871370690408919668164274590324631884987684062274915038709235319401019210061505607061585118713722174462056727129101719729228404880964198060054070160193010624331361954960794239717314766327842194808733539019997881113013318654612942104879499538928316485300243367340387394641692200919115744791313736637910347312939832961058097756734579935358453674150082772195302427315653527124821722171523738951424316025874880764829037134510939838884200286043441233548524838054837139585873568921481622419078492858137670827775938795535042632462227826780801991495836080804534751196552905247005418010377864866791442378706444042696741192484294777924027321908036929969876517473431424829087133827066458341092832667046538705059230114457764084164214890830880388872130154520379188617354559385976854668563282031149390158692678204206656653572082996095731877898144497603320925855132400382160823679552509794498211444065498044573592045813989818422932692663892116861864731682696116017436631179938488770015908393323771086206978840777735476056241500876292938054047483522069024548260886144754236304992883225127999720780482273192657892936539889540654114718004405236367065957517201029780761425406554204206338092760797892233862020106289695340159035600557031226237154242540105346411489141705171807170750323903897886329143831379796824330417171256056812684085645393159087927630504602935935856368127336259197560593899869386875350865034008998480431607884256415963504930764739400482489604831943664355157856843969748480302827527765080669602110698369566425660993840768286461571659767707309837358308635188139335813066262561299940543908282454530465866170968995549990181423910696368689278870108664787841725619015171651921770772819779727824871284873887426337178078393012392835906392441655421374690610239864964481279794327956716177079670903187089339877448224254139616853495083178338147075748235436946157383130345907522756566242120516056947801139287199046666018344755188869261391168559213440802302510483500844896495945968045658227969034040888412558411582784968910883005570959895521502400722264116534242403339241509021533098667967218955247092844593298839791929816420404223861516514214061129993687748986158994704740127998084520244625462969145517545694614677820701490283347056026342298069094449031609826421724498950210848695425417619681239138590306804743892307538959632979543747335832004346377472282754229988100782210443363019471529649105190750558629386169813967000458378430771682942442610817256304829805454071079821924375844216065997846313487903180452210812960868302631371404696098872228683580844968023401451294475039926826688194608854951773921123020826297768178538974292379180392846490638153328063710649268249330760903408184939474904680932236183110635621189463546370242155069748842215198072888850403000041613532168004120064368910640555629755679574191349322499915265477532609153683139064910911870821930028442674042010575021051702426935059809470716662575872439616036693596346606195323099729335332408215058969490494618639689676093413769540499715588471873054695856274633145333608271919227517578915791844609594673811976018262788657157290549061408474771676814964706618063905887500032072029506703822835371164765274769028282894653781476222081194458792759625519836894655434621261478671703189558902511496964758950338212196622083606340872945252474816785704836379582878939493371924228386251933570220427482510903238320349398124916124403368013753076067128335086239926071033685460459178520083359290362518170588003197192233848668046952824179066520971343543911953779634644566462503916372033650296896254658436766866567535151621949412798749974278239667244181908178583997815085283724213464087282319076233469002534939318122677916444152254906667817534469379734029021723237563490150882"
      ]
     },
     "execution_count": 36,
     "metadata": {},
     "output_type": "execute_result"
    }
   ],
   "source": [
    "fibonacci_1(20575)"
   ]
  },
  {
   "cell_type": "code",
   "execution_count": 37,
   "metadata": {},
   "outputs": [
    {
     "name": "stdout",
     "output_type": "stream",
     "text": [
      "abc\n"
     ]
    }
   ],
   "source": [
    "def abc():\n",
    "    pass\n",
    "\n",
    "print(abc.__name__)"
   ]
  },
  {
   "cell_type": "markdown",
   "metadata": {},
   "source": [
    "### Assignment 7: Decorator with Arguments\n",
    "\n",
    "Write a decorator named `repeat` that takes an argument `n` and repeats the execution of the decorated function `n` times. Apply this decorator to a function that prints a message."
   ]
  },
  {
   "cell_type": "code",
   "execution_count": 38,
   "metadata": {},
   "outputs": [
    {
     "name": "stdout",
     "output_type": "stream",
     "text": [
      "Starting function: generate\n",
      "Exceuting function...\n",
      "23\n",
      "Function perfectly executed!\n",
      "Starting function: generate\n",
      "Exceuting function...\n",
      "76\n",
      "Function perfectly executed!\n",
      "Starting function: generate\n",
      "Exceuting function...\n",
      "87\n",
      "Function perfectly executed!\n"
     ]
    }
   ],
   "source": [
    "import random as rd\n",
    "def repeat(n):\n",
    "    if n <= 0:\n",
    "        return\n",
    "    def generate_random_number(func):\n",
    "        def wrapper(*args, **kwargs):\n",
    "            for _ in range(n):\n",
    "                print(f\"Starting function: {func.__name__}\")\n",
    "                print(\"Exceuting function...\")\n",
    "                func(*args, **kwargs)\n",
    "                print(\"Function perfectly executed!\")\n",
    "        return wrapper\n",
    "    return generate_random_number\n",
    "\n",
    "@repeat(3)\n",
    "def generate(a, b):\n",
    "    print(rd.randint(a,b))\n",
    "\n",
    "generate(1,100)"
   ]
  },
  {
   "cell_type": "markdown",
   "metadata": {},
   "source": [
    "### Assignment 8: Nested Decorators\n",
    "\n",
    "Write two decorators: `uppercase` that converts the result of a function to uppercase, and `exclaim` that adds an exclamation mark to the result of a function. Apply both decorators to a function that returns a greeting message."
   ]
  },
  {
   "cell_type": "code",
   "execution_count": 39,
   "metadata": {},
   "outputs": [],
   "source": [
    "def uppercase(func):\n",
    "    def wrapper(*args, **kwargs):\n",
    "        result = func(*args, **kwargs)\n",
    "        return result.upper()\n",
    "    return wrapper\n",
    "\n",
    "def exclaim(func):\n",
    "    def wrapper(*args, **kwargs):\n",
    "        result = func(*args, **kwargs)\n",
    "        return result + \"!\"\n",
    "    return wrapper\n",
    "\n",
    "@uppercase\n",
    "@exclaim\n",
    "def greet(name, lastname):\n",
    "    return \"Greet \" + name + \" \" + lastname"
   ]
  },
  {
   "cell_type": "code",
   "execution_count": 40,
   "metadata": {},
   "outputs": [
    {
     "data": {
      "text/plain": [
       "'GREET THANG PHAN!'"
      ]
     },
     "execution_count": 40,
     "metadata": {},
     "output_type": "execute_result"
    }
   ],
   "source": [
    "greet(\"thang\", \"phan\")"
   ]
  },
  {
   "cell_type": "markdown",
   "metadata": {},
   "source": [
    "### Assignment 9: Class Decorator\n",
    "\n",
    "Create a class decorator named `singleton` that ensures a class has only one instance. Apply this decorator to a class named `DatabaseConnection` and test it."
   ]
  },
  {
   "cell_type": "code",
   "execution_count": 41,
   "metadata": {},
   "outputs": [],
   "source": [
    "def singleton(cls):\n",
    "    instance = {}\n",
    "    def wrapper(*a, **k):\n",
    "        if cls not in instance:\n",
    "            instance[cls] = cls(*a, **k)\n",
    "        return instance[cls]\n",
    "    return wrapper\n",
    "\n",
    "@singleton\n",
    "class DatabaseConnection:\n",
    "    def __init__(self):\n",
    "        print(\"Initialized\")"
   ]
  },
  {
   "cell_type": "code",
   "execution_count": 42,
   "metadata": {},
   "outputs": [
    {
     "name": "stdout",
     "output_type": "stream",
     "text": [
      "Initialized\n",
      "<__main__.DatabaseConnection object at 0x000001892AFE31F0>\n",
      "<__main__.DatabaseConnection object at 0x000001892AFE31F0>\n"
     ]
    }
   ],
   "source": [
    "con1 = DatabaseConnection()\n",
    "con2 = DatabaseConnection()\n",
    "print(con1)\n",
    "print(con2)"
   ]
  },
  {
   "cell_type": "markdown",
   "metadata": {},
   "source": [
    "### Assignment 10: Iterator Protocol with Decorators\n",
    "\n",
    "Create a custom iterator class named `ReverseString` that iterates over a string in reverse. Write a decorator named `uppercase` that converts the string to uppercase before reversing it. Apply the decorator to the `ReverseString` class."
   ]
  },
  {
   "cell_type": "code",
   "execution_count": 54,
   "metadata": {},
   "outputs": [
    {
     "name": "stdout",
     "output_type": "stream",
     "text": [
      "C\n",
      "B\n",
      "A\n"
     ]
    }
   ],
   "source": [
    "def uppercase(cls):\n",
    "    class Wrapper(cls):\n",
    "        def __init__(self, *args, **kwargs):\n",
    "            super().__init__(*args, **kwargs)\n",
    "            self.s = self.s.upper()\n",
    "    return Wrapper\n",
    "\n",
    "@uppercase\n",
    "class ReverseString:\n",
    "    def __init__(self, s):\n",
    "        self.s = s\n",
    "        self.current = len(s) - 1 \n",
    "        # print(f\"Self.current: {self.current}\")\n",
    "\n",
    "    def __iter__(self):\n",
    "        return self\n",
    "    \n",
    "    def __next__(self):\n",
    "        if self.current < 0:\n",
    "            # print(\"STOP\")\n",
    "            raise StopIteration\n",
    "        else:\n",
    "            self.current -= 1\n",
    "            # print(\"DEDUCTED\")\n",
    "        # print(f\"Self.current: {self.current}\")\n",
    "        return self.s[self.current + 1]\n",
    "    \n",
    "rs = ReverseString(\"abc\")\n",
    "for i in rs:\n",
    "    print(i)"
   ]
  },
  {
   "cell_type": "markdown",
   "metadata": {},
   "source": [
    "### Assignment 11: Stateful Generators\n",
    "\n",
    "Write a stateful generator function named `counter` that takes a start value and increments it by 1 each time it is called. Test the generator by iterating over it and printing the first 10 values."
   ]
  },
  {
   "cell_type": "code",
   "execution_count": null,
   "metadata": {},
   "outputs": [],
   "source": []
  },
  {
   "cell_type": "markdown",
   "metadata": {},
   "source": [
    "### Assignment 12: Generator with Exception Handling\n",
    "\n",
    "Write a generator function named `safe_divide` that takes a list of numbers and yields the division of each number by a given divisor. Implement exception handling within the generator to handle division by zero."
   ]
  },
  {
   "cell_type": "markdown",
   "metadata": {},
   "source": [
    "### Assignment 13: Context Manager Decorator\n",
    "\n",
    "Write a decorator named `open_file` that manages the opening and closing of a file. Apply this decorator to a function that writes some text to a file."
   ]
  },
  {
   "cell_type": "markdown",
   "metadata": {},
   "source": [
    "### Assignment 14: Infinite Iterator\n",
    "\n",
    "Create an infinite iterator class named `InfiniteCounter` that starts from a given number and increments by 1 indefinitely. Test the iterator by printing the first 10 values generated by it."
   ]
  },
  {
   "cell_type": "markdown",
   "metadata": {},
   "source": [
    "### Assignment 15: Generator Pipeline\n",
    "\n",
    "Write three generator functions: `integers` that yields integers from 1 to 10, `doubles` that yields each integer doubled, and `negatives` that yields the negative of each doubled value. Chain these generators to create a pipeline that produces the negative doubled values of integers from 1 to 10."
   ]
  }
 ],
 "metadata": {
  "kernelspec": {
   "display_name": "Python 3",
   "language": "python",
   "name": "python3"
  },
  "language_info": {
   "codemirror_mode": {
    "name": "ipython",
    "version": 3
   },
   "file_extension": ".py",
   "mimetype": "text/x-python",
   "name": "python",
   "nbconvert_exporter": "python",
   "pygments_lexer": "ipython3",
   "version": "3.10.16"
  }
 },
 "nbformat": 4,
 "nbformat_minor": 2
}
