{
 "cells": [
  {
   "cell_type": "markdown",
   "id": "b57178f6",
   "metadata": {},
   "source": [
    "### Flask Framework\n",
    "Flask is a web app framework. Things to remember:\n",
    "1. WSGI -> Web Server Gateway Interface\n",
    "2. Jinja 2 -> Template engine"
   ]
  }
 ],
 "metadata": {
  "language_info": {
   "name": "python"
  }
 },
 "nbformat": 4,
 "nbformat_minor": 5
}
